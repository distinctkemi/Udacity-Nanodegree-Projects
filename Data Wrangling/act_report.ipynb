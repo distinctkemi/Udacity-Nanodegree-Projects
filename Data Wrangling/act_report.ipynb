{
 "cells": [
  {
   "cell_type": "markdown",
   "metadata": {},
   "source": [
    "## WeRateDogs Twitter Archive - Act Report"
   ]
  },
  {
   "cell_type": "markdown",
   "metadata": {},
   "source": [
    "#### Adekemi Kadri\n",
    "#### October 2022\n"
   ]
  },
  {
   "cell_type": "markdown",
   "metadata": {},
   "source": [
    "## Introduction\n",
    "\n",
    "This report is a data analysis done for a twitter account with the handle \"We Rate Dogs,\" a twitter website that rates dog pictures provided by twitter users. This report is focused on the data wrangling process, which was into 4 steps: \n",
    "* Data Gathering: Three dataset(images of dog, twitter archive data, tweets details) were used in this project,  two of the dataset (images of dog and twitter archive data) were gathered by Udacity and provided to the students, while one of the data set was web scrapped from twitter API. \n",
    "\n",
    "* Data Assessment: After data collection, the data were examined for cleanliness, orderliness, and any data quality issues that might exist in the dataset that need to be resolved before analysis. \n",
    "\n",
    "* Data Cleaning: This step involved thorough data cleaning, which included numerous steps like removing duplicated rows, removing columns with more than 90% missing values, checking that each column's data type is accurate, checking that each column has a good descriptive name, and checking that each column is an observation.\n",
    "\n",
    "* Storing the clean data: The three datasets were combined into one dataset, saved in a csv (comma separated value) format, and analysed later after the data had been thoroughly cleaned in the data cleaning stage and it had been verified that there were no quality and tidiness issues in the datasets."
   ]
  },
  {
   "cell_type": "markdown",
   "metadata": {},
   "source": [
    "## Analysis\n",
    "Following the data wrangling procedure, the combined dataset was subjected to analysis, from which the following findings were drawn:\n",
    "\n",
    "1. The dog with the highest number of favourite by twitter users is 'puppo'\n",
    "\n",
    "2. Monday has the highest number of tweets, <img src=\"weekday_vis.png\">\n",
    "\n",
    "3. Retweet and favorite have the strongest correlation, <img src=\"Retweets vs Favorites.png\">\n"
   ]
  }
 ],
 "metadata": {
  "kernelspec": {
   "display_name": "Python 3",
   "language": "python",
   "name": "python3"
  },
  "language_info": {
   "codemirror_mode": {
    "name": "ipython",
    "version": 3
   },
   "file_extension": ".py",
   "mimetype": "text/x-python",
   "name": "python",
   "nbconvert_exporter": "python",
   "pygments_lexer": "ipython3",
   "version": "3.6.3"
  }
 },
 "nbformat": 4,
 "nbformat_minor": 2
}
